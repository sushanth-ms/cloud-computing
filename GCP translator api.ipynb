{
 "cells": [
  {
   "cell_type": "code",
   "execution_count": 6,
   "id": "fdb8374d",
   "metadata": {
    "scrolled": false
   },
   "outputs": [
    {
     "name": "stdout",
     "output_type": "stream",
     "text": [
      "Cloud computing refers to the delivery of on -demand computing resources over the internet. It \n",
      "enables users to access data, applications, and services from any device with an internet connection, \n",
      "eliminating the need for local infrastructure and maintenance. Cloud computing is categorized into \n",
      "three service models: Infrastructure as a Service (IaaS), Platform as a Service (PaaS), and Software as \n",
      "a Service (SaaS). It also offers deployment models including Public Cloud, Private Cloud, Hybrid \n",
      "Cloud,  and Multi -Cloud. Cloud computing provides businesses with cost savings, flexibility, scalability, \n",
      "and improved productivity. With the increasing demand for cloud -based services, the industry is \n",
      "expected to continue its growth in the future.  \n",
      "云计算是指通过互联网交付按需计算资源。它使用户能够从任何具有 Internet 连接的设备访问数据、应用程序和服务，而无需本地基础设施和维护。云计算分为三种服务模型：基础架构即服务 (IaaS)、平台即服务 (PaaS) 和软件即服务 (SaaS)。它还提供包括公共云、私有云、混合云和多云在内的部署模型。云计算为企业提供了成本节约、灵活性、可扩展性和提高的生产力。随着对基于云的服务的需求不断增加，该行业有望在未来继续增长。\n"
     ]
    }
   ],
   "source": [
    "from google.cloud import translate_v2 as translate\n",
    "import PyPDF2\n",
    "import os\n",
    "\n",
    "pdf_filename = \"input.pdf\"\n",
    "target_language = \"zh-CN\"\n",
    "\n",
    "# Initialize the Google Cloud Translate API client\n",
    "translate_client = translate.Client.from_service_account_json('C:/Users/Nagesh/Downloads/cc-assignment-386116-ef44faf97915.json')\n",
    "\n",
    "# Read the contents of the PDF file\n",
    "with open(pdf_filename, \"rb\") as pdf_file:\n",
    "    pdf_reader = PyPDF2.PdfReader(pdf_file)\n",
    "    text = \"\"\n",
    "    for page in pdf_reader.pages:\n",
    "        text += page.extract_text()\n",
    "\n",
    "# Translate the text using the Google Cloud Translate API\n",
    "result = translate_client.translate(text, target_language=target_language)\n",
    "\n",
    "# Print the translated text\n",
    "print(result[\"input\"])\n",
    "print(result[\"translatedText\"])"
   ]
  },
  {
   "cell_type": "code",
   "execution_count": null,
   "id": "74aba694",
   "metadata": {},
   "outputs": [],
   "source": []
  }
 ],
 "metadata": {
  "kernelspec": {
   "display_name": "Python 3 (ipykernel)",
   "language": "python",
   "name": "python3"
  },
  "language_info": {
   "codemirror_mode": {
    "name": "ipython",
    "version": 3
   },
   "file_extension": ".py",
   "mimetype": "text/x-python",
   "name": "python",
   "nbconvert_exporter": "python",
   "pygments_lexer": "ipython3",
   "version": "3.9.12"
  }
 },
 "nbformat": 4,
 "nbformat_minor": 5
}
