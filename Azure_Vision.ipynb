{
 "cells": [
  {
   "cell_type": "code",
   "execution_count": null,
   "id": "105e5e90",
   "metadata": {},
   "outputs": [],
   "source": [
    "import os\n",
    "from azure.cognitiveservices.vision.computervision import ComputerVisionClient\n",
    "from azure.cognitiveservices.vision.computervision.models import VisualFeatureTypes\n",
    "from msrest.authentication import CognitiveServicesCredentials\n",
    "\n",
    "# Replace with your API key and endpoint\n",
    "subscription_key = 'YOUR_SUBSCRIPTION_KEY'\n",
    "endpoint = 'YOUR_ENDPOINT'\n",
    "\n",
    "# Initialize the client\n",
    "credentials = CognitiveServicesCredentials(subscription_key)\n",
    "client = ComputerVisionClient(endpoint, credentials)\n",
    "\n",
    "# Specify the path to the image\n",
    "image_path = 'path_to_your_image.jpg'\n",
    "\n",
    "# Open the image file\n",
    "with open(image_path, 'rb') as image_file:\n",
    "    image_data = image_file.read()\n",
    "\n",
    "# Detect objects in the image\n",
    "detected_objects = client.detect_objects_in_stream(image_data)\n",
    "\n",
    "# Print the detected objects\n",
    "for obj in detected_objects.objects:\n",
    "    print('Object:', obj.object_property, '| Confidence:', obj.confidence)\n",
    "\n",
    "# Alternatively, if you only need to detect specific visual features, you can use the following code:\n",
    "# detected_objects = client.analyze_image_in_stream(image_data, visual_features=[VisualFeatureTypes.objects])"
   ]
  }
 ],
 "metadata": {
  "kernelspec": {
   "display_name": "Python 3 (ipykernel)",
   "language": "python",
   "name": "python3"
  },
  "language_info": {
   "codemirror_mode": {
    "name": "ipython",
    "version": 3
   },
   "file_extension": ".py",
   "mimetype": "text/x-python",
   "name": "python",
   "nbconvert_exporter": "python",
   "pygments_lexer": "ipython3",
   "version": "3.9.12"
  }
 },
 "nbformat": 4,
 "nbformat_minor": 5
}
